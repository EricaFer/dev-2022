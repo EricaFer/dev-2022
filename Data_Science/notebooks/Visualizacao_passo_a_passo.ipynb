{
 "cells": [
  {
   "cell_type": "markdown",
   "metadata": {},
   "source": [
    "## **Capacitação de Visualiazação para a área de Dev**\n",
    "\n",
    "### **Autora:**\n",
    "- Erica Ferreira - [erica.ferreira@poli.ufrj.br](mailto:erica.ferreira@poli.ufrj.br)\n",
    "\n",
    "### **Fontes**:\n",
    "\n",
    "- [Paleta Seaborn](https://seaborn.pydata.org/tutorial/color_palettes.html)\n",
    "- [Roda de Cores](https://coolors.co/palettes/trending)\n",
    "- [Escolhendo o gráfico](https://www.data-to-viz.com/)\n",
    "- [Documentação Matploltlib](https://matplotlib.org/)\n",
    "- [Documentação Seaborn](https://seaborn.pydata.org/)\n",
    "- [Livro de Visualização](https://clauswilke.com/dataviz/index.html)\n",
    "- [Dataset Utilizado](https://www.kaggle.com/datasets/datahackers/state-of-data-2021)\n",
    "\n",
    "<hr>"
   ]
  },
  {
   "cell_type": "markdown",
   "metadata": {},
   "source": [
    "### Importando as Bibliotecas"
   ]
  },
  {
   "cell_type": "code",
   "execution_count": 1,
   "metadata": {},
   "outputs": [],
   "source": []
  },
  {
   "cell_type": "markdown",
   "metadata": {},
   "source": [
    "### Lendo os dados"
   ]
  },
  {
   "cell_type": "code",
   "execution_count": 140,
   "metadata": {},
   "outputs": [
    {
     "name": "stderr",
     "output_type": "stream",
     "text": [
      "C:\\Users\\erica\\AppData\\Local\\Temp\\ipykernel_13700\\1059990348.py:1: DtypeWarning: Columns (47) have mixed types. Specify dtype option on import or set low_memory=False.\n",
      "  df = pd.read_csv('../data/State_of_Data_2021.csv')\n"
     ]
    }
   ],
   "source": [
    "df = pd.read_csv('../data/State_of_Data_2021.csv')"
   ]
  },
  {
   "cell_type": "markdown",
   "metadata": {},
   "source": [
    "### Processamento dos dados"
   ]
  },
  {
   "cell_type": "code",
   "execution_count": 141,
   "metadata": {},
   "outputs": [
    {
     "data": {
      "text/plain": [
       "Index(['('P0', 'id')', '('P1_a ', 'Idade')', '('P1_a_a ', 'Faixa idade')',\n",
       "       '('P1_b ', 'Genero')', '('P1_e ', 'Estado onde mora')',\n",
       "       '('P1_e_a ', 'uf onde mora')', '('P1_e_b ', 'Regiao onde mora')',\n",
       "       '('P1_g_b ', 'Regiao de origem')', '('P1_g_c ', 'Mudou de Estado?')',\n",
       "       '('P1_h ', 'Nivel de Ensino')',\n",
       "       ...\n",
       "       '('P8_d_g ', 'Criando e dando manutenção em ETLs, DAGs e automações de pipelines de dados.')',\n",
       "       '('P8_d_h ', 'Criando e gerenciando soluções de Feature Store e cultura de MLOps.')',\n",
       "       '('P8_d_i ', 'Criando e mantendo a infra que meus modelos e soluções rodam (clusters, servidores, API, containers, etc.)')',\n",
       "       '('P9_a ', 'Quais das iniciativas do Data Hackers que você já acessou/acompanhou?')',\n",
       "       '('P9_a_a ', 'Blog/Medium do Data Hackers')',\n",
       "       '('P9_a_b ', 'Podcast do Data Hackers')',\n",
       "       '('P9_a_d ', 'Newsletter Semanal')', '('P9_a_e ', 'Canal do Slack')',\n",
       "       '('P9_a_f ', 'Canal do Youtube do Data Hackers')',\n",
       "       '('P9_a_g ', 'Ainda não conhecia o Data Hackers')'],\n",
       "      dtype='object', length=356)"
      ]
     },
     "execution_count": 141,
     "metadata": {},
     "output_type": "execute_result"
    }
   ],
   "source": [
    "# Vendo as colunas\n",
    "df.columns"
   ]
  },
  {
   "cell_type": "code",
   "execution_count": 142,
   "metadata": {},
   "outputs": [],
   "source": [
    "# Formatando o nome das colunas\n",
    "df.columns = [x.split(', ')[1].replace(\"'\",'').replace(')','') for x in df.columns.tolist()]"
   ]
  },
  {
   "cell_type": "code",
   "execution_count": 143,
   "metadata": {},
   "outputs": [
    {
     "data": {
      "text/plain": [
       "Index(['id', 'Idade', 'Faixa idade', 'Genero', 'Estado onde mora',\n",
       "       'uf onde mora', 'Regiao onde mora', 'Regiao de origem',\n",
       "       'Mudou de Estado?', 'Nivel de Ensino',\n",
       "       ...\n",
       "       'Criando e dando manutenção em ETLs',\n",
       "       'Criando e gerenciando soluções de Feature Store e cultura de MLOps.',\n",
       "       'Criando e mantendo a infra que meus modelos e soluções rodam (clusters',\n",
       "       'Quais das iniciativas do Data Hackers que você já acessou/acompanhou?',\n",
       "       'Blog/Medium do Data Hackers', 'Podcast do Data Hackers',\n",
       "       'Newsletter Semanal', 'Canal do Slack',\n",
       "       'Canal do Youtube do Data Hackers',\n",
       "       'Ainda não conhecia o Data Hackers'],\n",
       "      dtype='object', length=356)"
      ]
     },
     "execution_count": 143,
     "metadata": {},
     "output_type": "execute_result"
    }
   ],
   "source": [
    "# Colunas depois da formatação\n",
    "df.columns"
   ]
  },
  {
   "cell_type": "code",
   "execution_count": 144,
   "metadata": {},
   "outputs": [
    {
     "data": {
      "text/html": [
       "<div>\n",
       "<style scoped>\n",
       "    .dataframe tbody tr th:only-of-type {\n",
       "        vertical-align: middle;\n",
       "    }\n",
       "\n",
       "    .dataframe tbody tr th {\n",
       "        vertical-align: top;\n",
       "    }\n",
       "\n",
       "    .dataframe thead th {\n",
       "        text-align: right;\n",
       "    }\n",
       "</style>\n",
       "<table border=\"1\" class=\"dataframe\">\n",
       "  <thead>\n",
       "    <tr style=\"text-align: right;\">\n",
       "      <th></th>\n",
       "      <th>Faixa salarial</th>\n",
       "      <th>Genero</th>\n",
       "      <th>Absoluto</th>\n",
       "    </tr>\n",
       "  </thead>\n",
       "  <tbody>\n",
       "    <tr>\n",
       "      <th>0</th>\n",
       "      <td>Acima de R$ 40.001/mês</td>\n",
       "      <td>Feminino</td>\n",
       "      <td>3</td>\n",
       "    </tr>\n",
       "    <tr>\n",
       "      <th>1</th>\n",
       "      <td>Acima de R$ 40.001/mês</td>\n",
       "      <td>Masculino</td>\n",
       "      <td>31</td>\n",
       "    </tr>\n",
       "    <tr>\n",
       "      <th>2</th>\n",
       "      <td>Menos de R$ 1.000/mês</td>\n",
       "      <td>Feminino</td>\n",
       "      <td>5</td>\n",
       "    </tr>\n",
       "    <tr>\n",
       "      <th>3</th>\n",
       "      <td>Menos de R$ 1.000/mês</td>\n",
       "      <td>Masculino</td>\n",
       "      <td>27</td>\n",
       "    </tr>\n",
       "    <tr>\n",
       "      <th>4</th>\n",
       "      <td>de R$ 1.001/mês a R$ 2.000/mês</td>\n",
       "      <td>Feminino</td>\n",
       "      <td>23</td>\n",
       "    </tr>\n",
       "  </tbody>\n",
       "</table>\n",
       "</div>"
      ],
      "text/plain": [
       "                   Faixa salarial     Genero  Absoluto\n",
       "0          Acima de R$ 40.001/mês   Feminino         3\n",
       "1          Acima de R$ 40.001/mês  Masculino        31\n",
       "2           Menos de R$ 1.000/mês   Feminino         5\n",
       "3           Menos de R$ 1.000/mês  Masculino        27\n",
       "4  de R$ 1.001/mês a R$ 2.000/mês   Feminino        23"
      ]
     },
     "execution_count": 144,
     "metadata": {},
     "output_type": "execute_result"
    }
   ],
   "source": [
    "# Agrupando por Faixa Salarial e Gênero\n",
    "df_agrupado = (df.groupby(['Faixa salarial','Genero'])['id']\n",
    "                .count()\n",
    "                .reset_index()\n",
    "              ).rename(columns = {'id':'Absoluto'})\n",
    "\n",
    "df_agrupado.head()"
   ]
  },
  {
   "cell_type": "code",
   "execution_count": 145,
   "metadata": {},
   "outputs": [
    {
     "data": {
      "text/html": [
       "<div>\n",
       "<style scoped>\n",
       "    .dataframe tbody tr th:only-of-type {\n",
       "        vertical-align: middle;\n",
       "    }\n",
       "\n",
       "    .dataframe tbody tr th {\n",
       "        vertical-align: top;\n",
       "    }\n",
       "\n",
       "    .dataframe thead th {\n",
       "        text-align: right;\n",
       "    }\n",
       "</style>\n",
       "<table border=\"1\" class=\"dataframe\">\n",
       "  <thead>\n",
       "    <tr style=\"text-align: right;\">\n",
       "      <th></th>\n",
       "      <th>Faixa salarial</th>\n",
       "      <th>Genero</th>\n",
       "      <th>Absoluto</th>\n",
       "      <th>Porcentagem</th>\n",
       "    </tr>\n",
       "  </thead>\n",
       "  <tbody>\n",
       "    <tr>\n",
       "      <th>0</th>\n",
       "      <td>Acima de R$ 40.001/mês</td>\n",
       "      <td>Feminino</td>\n",
       "      <td>3</td>\n",
       "      <td>0.688073</td>\n",
       "    </tr>\n",
       "    <tr>\n",
       "      <th>1</th>\n",
       "      <td>Acima de R$ 40.001/mês</td>\n",
       "      <td>Masculino</td>\n",
       "      <td>31</td>\n",
       "      <td>1.611227</td>\n",
       "    </tr>\n",
       "    <tr>\n",
       "      <th>2</th>\n",
       "      <td>Menos de R$ 1.000/mês</td>\n",
       "      <td>Feminino</td>\n",
       "      <td>5</td>\n",
       "      <td>1.146789</td>\n",
       "    </tr>\n",
       "    <tr>\n",
       "      <th>3</th>\n",
       "      <td>Menos de R$ 1.000/mês</td>\n",
       "      <td>Masculino</td>\n",
       "      <td>27</td>\n",
       "      <td>1.403326</td>\n",
       "    </tr>\n",
       "    <tr>\n",
       "      <th>4</th>\n",
       "      <td>de R$ 1.001/mês a R$ 2.000/mês</td>\n",
       "      <td>Feminino</td>\n",
       "      <td>23</td>\n",
       "      <td>5.275229</td>\n",
       "    </tr>\n",
       "    <tr>\n",
       "      <th>5</th>\n",
       "      <td>de R$ 1.001/mês a R$ 2.000/mês</td>\n",
       "      <td>Masculino</td>\n",
       "      <td>102</td>\n",
       "      <td>5.301455</td>\n",
       "    </tr>\n",
       "    <tr>\n",
       "      <th>6</th>\n",
       "      <td>de R$ 1.001/mês a R$ 2.000/mês</td>\n",
       "      <td>Outro</td>\n",
       "      <td>1</td>\n",
       "      <td>20.000000</td>\n",
       "    </tr>\n",
       "    <tr>\n",
       "      <th>7</th>\n",
       "      <td>de R$ 12.001/mês a R$ 16.000/mês</td>\n",
       "      <td>Feminino</td>\n",
       "      <td>34</td>\n",
       "      <td>7.798165</td>\n",
       "    </tr>\n",
       "    <tr>\n",
       "      <th>8</th>\n",
       "      <td>de R$ 12.001/mês a R$ 16.000/mês</td>\n",
       "      <td>Masculino</td>\n",
       "      <td>229</td>\n",
       "      <td>11.902287</td>\n",
       "    </tr>\n",
       "    <tr>\n",
       "      <th>9</th>\n",
       "      <td>de R$ 16.001/mês a R$ 20.000/mês</td>\n",
       "      <td>Feminino</td>\n",
       "      <td>16</td>\n",
       "      <td>3.669725</td>\n",
       "    </tr>\n",
       "    <tr>\n",
       "      <th>10</th>\n",
       "      <td>de R$ 16.001/mês a R$ 20.000/mês</td>\n",
       "      <td>Masculino</td>\n",
       "      <td>113</td>\n",
       "      <td>5.873181</td>\n",
       "    </tr>\n",
       "    <tr>\n",
       "      <th>11</th>\n",
       "      <td>de R$ 2.001/mês a R$ 3000/mês</td>\n",
       "      <td>Feminino</td>\n",
       "      <td>40</td>\n",
       "      <td>9.174312</td>\n",
       "    </tr>\n",
       "    <tr>\n",
       "      <th>12</th>\n",
       "      <td>de R$ 2.001/mês a R$ 3000/mês</td>\n",
       "      <td>Masculino</td>\n",
       "      <td>140</td>\n",
       "      <td>7.276507</td>\n",
       "    </tr>\n",
       "    <tr>\n",
       "      <th>13</th>\n",
       "      <td>de R$ 20.001/mês a R$ 25.000/mês</td>\n",
       "      <td>Feminino</td>\n",
       "      <td>8</td>\n",
       "      <td>1.834862</td>\n",
       "    </tr>\n",
       "    <tr>\n",
       "      <th>14</th>\n",
       "      <td>de R$ 20.001/mês a R$ 25.000/mês</td>\n",
       "      <td>Masculino</td>\n",
       "      <td>54</td>\n",
       "      <td>2.806653</td>\n",
       "    </tr>\n",
       "    <tr>\n",
       "      <th>15</th>\n",
       "      <td>de R$ 25.001/mês a R$ 30.000/mês</td>\n",
       "      <td>Feminino</td>\n",
       "      <td>4</td>\n",
       "      <td>0.917431</td>\n",
       "    </tr>\n",
       "    <tr>\n",
       "      <th>16</th>\n",
       "      <td>de R$ 25.001/mês a R$ 30.000/mês</td>\n",
       "      <td>Masculino</td>\n",
       "      <td>39</td>\n",
       "      <td>2.027027</td>\n",
       "    </tr>\n",
       "    <tr>\n",
       "      <th>17</th>\n",
       "      <td>de R$ 3.001/mês a R$ 4.000/mês</td>\n",
       "      <td>Feminino</td>\n",
       "      <td>40</td>\n",
       "      <td>9.174312</td>\n",
       "    </tr>\n",
       "    <tr>\n",
       "      <th>18</th>\n",
       "      <td>de R$ 3.001/mês a R$ 4.000/mês</td>\n",
       "      <td>Masculino</td>\n",
       "      <td>143</td>\n",
       "      <td>7.432432</td>\n",
       "    </tr>\n",
       "    <tr>\n",
       "      <th>19</th>\n",
       "      <td>de R$ 30.001/mês a R$ 40.000/mês</td>\n",
       "      <td>Feminino</td>\n",
       "      <td>3</td>\n",
       "      <td>0.688073</td>\n",
       "    </tr>\n",
       "    <tr>\n",
       "      <th>20</th>\n",
       "      <td>de R$ 30.001/mês a R$ 40.000/mês</td>\n",
       "      <td>Masculino</td>\n",
       "      <td>34</td>\n",
       "      <td>1.767152</td>\n",
       "    </tr>\n",
       "    <tr>\n",
       "      <th>21</th>\n",
       "      <td>de R$ 30.001/mês a R$ 40.000/mês</td>\n",
       "      <td>Outro</td>\n",
       "      <td>1</td>\n",
       "      <td>20.000000</td>\n",
       "    </tr>\n",
       "    <tr>\n",
       "      <th>22</th>\n",
       "      <td>de R$ 4.001/mês a R$ 6.000/mês</td>\n",
       "      <td>Feminino</td>\n",
       "      <td>83</td>\n",
       "      <td>19.036697</td>\n",
       "    </tr>\n",
       "    <tr>\n",
       "      <th>23</th>\n",
       "      <td>de R$ 4.001/mês a R$ 6.000/mês</td>\n",
       "      <td>Masculino</td>\n",
       "      <td>317</td>\n",
       "      <td>16.476091</td>\n",
       "    </tr>\n",
       "    <tr>\n",
       "      <th>24</th>\n",
       "      <td>de R$ 4.001/mês a R$ 6.000/mês</td>\n",
       "      <td>Outro</td>\n",
       "      <td>3</td>\n",
       "      <td>60.000000</td>\n",
       "    </tr>\n",
       "    <tr>\n",
       "      <th>25</th>\n",
       "      <td>de R$ 6.001/mês a R$ 8.000/mês</td>\n",
       "      <td>Feminino</td>\n",
       "      <td>80</td>\n",
       "      <td>18.348624</td>\n",
       "    </tr>\n",
       "    <tr>\n",
       "      <th>26</th>\n",
       "      <td>de R$ 6.001/mês a R$ 8.000/mês</td>\n",
       "      <td>Masculino</td>\n",
       "      <td>313</td>\n",
       "      <td>16.268191</td>\n",
       "    </tr>\n",
       "    <tr>\n",
       "      <th>27</th>\n",
       "      <td>de R$ 8.001/mês a R$ 12.000/mês</td>\n",
       "      <td>Feminino</td>\n",
       "      <td>97</td>\n",
       "      <td>22.247706</td>\n",
       "    </tr>\n",
       "    <tr>\n",
       "      <th>28</th>\n",
       "      <td>de R$ 8.001/mês a R$ 12.000/mês</td>\n",
       "      <td>Masculino</td>\n",
       "      <td>382</td>\n",
       "      <td>19.854470</td>\n",
       "    </tr>\n",
       "  </tbody>\n",
       "</table>\n",
       "</div>"
      ],
      "text/plain": [
       "                      Faixa salarial     Genero  Absoluto  Porcentagem\n",
       "0             Acima de R$ 40.001/mês   Feminino         3     0.688073\n",
       "1             Acima de R$ 40.001/mês  Masculino        31     1.611227\n",
       "2              Menos de R$ 1.000/mês   Feminino         5     1.146789\n",
       "3              Menos de R$ 1.000/mês  Masculino        27     1.403326\n",
       "4     de R$ 1.001/mês a R$ 2.000/mês   Feminino        23     5.275229\n",
       "5     de R$ 1.001/mês a R$ 2.000/mês  Masculino       102     5.301455\n",
       "6     de R$ 1.001/mês a R$ 2.000/mês      Outro         1    20.000000\n",
       "7   de R$ 12.001/mês a R$ 16.000/mês   Feminino        34     7.798165\n",
       "8   de R$ 12.001/mês a R$ 16.000/mês  Masculino       229    11.902287\n",
       "9   de R$ 16.001/mês a R$ 20.000/mês   Feminino        16     3.669725\n",
       "10  de R$ 16.001/mês a R$ 20.000/mês  Masculino       113     5.873181\n",
       "11     de R$ 2.001/mês a R$ 3000/mês   Feminino        40     9.174312\n",
       "12     de R$ 2.001/mês a R$ 3000/mês  Masculino       140     7.276507\n",
       "13  de R$ 20.001/mês a R$ 25.000/mês   Feminino         8     1.834862\n",
       "14  de R$ 20.001/mês a R$ 25.000/mês  Masculino        54     2.806653\n",
       "15  de R$ 25.001/mês a R$ 30.000/mês   Feminino         4     0.917431\n",
       "16  de R$ 25.001/mês a R$ 30.000/mês  Masculino        39     2.027027\n",
       "17    de R$ 3.001/mês a R$ 4.000/mês   Feminino        40     9.174312\n",
       "18    de R$ 3.001/mês a R$ 4.000/mês  Masculino       143     7.432432\n",
       "19  de R$ 30.001/mês a R$ 40.000/mês   Feminino         3     0.688073\n",
       "20  de R$ 30.001/mês a R$ 40.000/mês  Masculino        34     1.767152\n",
       "21  de R$ 30.001/mês a R$ 40.000/mês      Outro         1    20.000000\n",
       "22    de R$ 4.001/mês a R$ 6.000/mês   Feminino        83    19.036697\n",
       "23    de R$ 4.001/mês a R$ 6.000/mês  Masculino       317    16.476091\n",
       "24    de R$ 4.001/mês a R$ 6.000/mês      Outro         3    60.000000\n",
       "25    de R$ 6.001/mês a R$ 8.000/mês   Feminino        80    18.348624\n",
       "26    de R$ 6.001/mês a R$ 8.000/mês  Masculino       313    16.268191\n",
       "27   de R$ 8.001/mês a R$ 12.000/mês   Feminino        97    22.247706\n",
       "28   de R$ 8.001/mês a R$ 12.000/mês  Masculino       382    19.854470"
      ]
     },
     "execution_count": 145,
     "metadata": {},
     "output_type": "execute_result"
    }
   ],
   "source": [
    "# Criando porcentagem de gênero por faixa salarial\n",
    "for genero in df_agrupado['Genero'].unique().tolist():\n",
    "\n",
    "    df_filtrado = df_agrupado[df_agrupado['Genero'] == genero]\n",
    "\n",
    "    # Calcula a porcentagem de cada gênero por faixa salarial\n",
    "    df_agrupado.loc[df_agrupado['Genero'] == genero,'Porcentagem'] = df_filtrado.Absoluto * 100 / df_filtrado.Absoluto.sum()\n",
    "\n",
    "df_agrupado"
   ]
  },
  {
   "cell_type": "code",
   "execution_count": 146,
   "metadata": {},
   "outputs": [],
   "source": [
    "# Salvando arquivo\n",
    "df_agrupado.to_csv('../data/State_of_Data_2021_filtrado.csv')"
   ]
  },
  {
   "cell_type": "markdown",
   "metadata": {},
   "source": [
    "### Visualização"
   ]
  },
  {
   "cell_type": "markdown",
   "metadata": {},
   "source": [
    "#### .0 Lendo arquivo"
   ]
  },
  {
   "cell_type": "code",
   "execution_count": 247,
   "metadata": {},
   "outputs": [],
   "source": []
  },
  {
   "cell_type": "markdown",
   "metadata": {},
   "source": [
    "#### .1 Direto da Caixa\n",
    "\n",
    "Sem fazer nenhuma alteração no gráfico, será que fica bom?"
   ]
  },
  {
   "cell_type": "code",
   "execution_count": null,
   "metadata": {},
   "outputs": [],
   "source": []
  },
  {
   "cell_type": "markdown",
   "metadata": {},
   "source": [
    "Não ficou bom. Não dá para ler o eixo x, e agora?"
   ]
  },
  {
   "cell_type": "code",
   "execution_count": null,
   "metadata": {},
   "outputs": [],
   "source": []
  },
  {
   "cell_type": "markdown",
   "metadata": {},
   "source": [
    "#### .2 Mudando os valores do eixo Y\n",
    "Os valores da faixa salarial estão dificultando a leitura, é muito texto, vamos diminuir isso."
   ]
  },
  {
   "cell_type": "code",
   "execution_count": null,
   "metadata": {},
   "outputs": [],
   "source": []
  },
  {
   "cell_type": "markdown",
   "metadata": {},
   "source": [
    "#### .3 Mudando variável numérica\n",
    "\n",
    "Será que ver o número absoluto de cada gênero é o melhor a se fazer? Será que a distribuição é parecida para fazer essa comparação?"
   ]
  },
  {
   "cell_type": "code",
   "execution_count": null,
   "metadata": {},
   "outputs": [],
   "source": []
  },
  {
   "cell_type": "markdown",
   "metadata": {},
   "source": [
    "Ficou melhor mas a coluna `Outro` está com muita diferença! É porque só temos 5 casos, como temos muito pouco, vamos tirar esses dados."
   ]
  },
  {
   "cell_type": "code",
   "execution_count": null,
   "metadata": {},
   "outputs": [],
   "source": []
  },
  {
   "cell_type": "markdown",
   "metadata": {},
   "source": [
    "#### .4 Mudando os eixos"
   ]
  },
  {
   "cell_type": "markdown",
   "metadata": {},
   "source": [
    "Poxa, ficou muito melhor! Mas o eixo y está fora de ordem, vamos ajeitar isso? Mas como?"
   ]
  },
  {
   "cell_type": "code",
   "execution_count": null,
   "metadata": {},
   "outputs": [],
   "source": []
  },
  {
   "cell_type": "markdown",
   "metadata": {},
   "source": [
    "Agora sim! Mas poxa, o nome desses eixos estão um pouco estranhos?`Faixa salarial` está em qual moeda? `Porcentagem` solta está estranho e não tem um título! Vamos mudar isso!"
   ]
  },
  {
   "cell_type": "code",
   "execution_count": null,
   "metadata": {},
   "outputs": [],
   "source": []
  },
  {
   "cell_type": "markdown",
   "metadata": {},
   "source": [
    "#### .5 Mudando Legenda"
   ]
  },
  {
   "cell_type": "code",
   "execution_count": null,
   "metadata": {},
   "outputs": [],
   "source": []
  },
  {
   "cell_type": "markdown",
   "metadata": {},
   "source": [
    "#### .6 Escolhendo as cores"
   ]
  },
  {
   "cell_type": "code",
   "execution_count": null,
   "metadata": {},
   "outputs": [],
   "source": []
  },
  {
   "cell_type": "markdown",
   "metadata": {},
   "source": [
    "#### .7 Salvando a imagem"
   ]
  },
  {
   "cell_type": "code",
   "execution_count": null,
   "metadata": {},
   "outputs": [],
   "source": []
  }
 ],
 "metadata": {
  "kernelspec": {
   "display_name": "Python 3.10.2 64-bit",
   "language": "python",
   "name": "python3"
  },
  "language_info": {
   "codemirror_mode": {
    "name": "ipython",
    "version": 3
   },
   "file_extension": ".py",
   "mimetype": "text/x-python",
   "name": "python",
   "nbconvert_exporter": "python",
   "pygments_lexer": "ipython3",
   "version": "3.10.2"
  },
  "orig_nbformat": 4,
  "vscode": {
   "interpreter": {
    "hash": "9a0cdf84f448366647335ab4dc44bab47d439701884f9aceeef12dc82824af0a"
   }
  }
 },
 "nbformat": 4,
 "nbformat_minor": 2
}
